{
 "cells": [
  {
   "cell_type": "code",
   "execution_count": null,
   "metadata": {},
   "outputs": [],
   "source": [
    "curl http://localhost:1234/v1/chat/completions \\\n",
    "  -H \"Content-Type: application/json\" \\\n",
    "  -d '{\n",
    "    \"model\": \"gemma-2-2b-it:2\",\n",
    "    \"messages\": [\n",
    "      { \"role\": \"system\", \"content\": \"Always answer in rhymes. Today is Thursday\" },\n",
    "      { \"role\": \"user\", \"content\": \"What day is it today?\" }\n",
    "    ],\n",
    "    \"temperature\": 0.7,\n",
    "    \"max_tokens\": -1,\n",
    "    \"stream\": false\n",
    "}'"
   ]
  },
  {
   "cell_type": "code",
   "execution_count": 1,
   "metadata": {},
   "outputs": [
    {
     "name": "stdout",
     "output_type": "stream",
     "text": [
      "{\n",
      "  \"id\": \"chatcmpl-smd4sxexzm1xwxyzqjoqe\",\n",
      "  \"object\": \"chat.completion\",\n",
      "  \"created\": 1739382464,\n",
      "  \"model\": \"gemma-2-2b-it:2\",\n",
      "  \"choices\": [\n",
      "    {\n",
      "      \"index\": 0,\n",
      "      \"logprobs\": null,\n",
      "      \"finish_reason\": \"stop\",\n",
      "      \"message\": {\n",
      "        \"role\": \"assistant\",\n",
      "        \"content\": \"Taipei \\n\"\n",
      "      }\n",
      "    }\n",
      "  ],\n",
      "  \"usage\": {\n",
      "    \"prompt_tokens\": 29,\n",
      "    \"completion_tokens\": 4,\n",
      "    \"total_tokens\": 33\n",
      "  },\n",
      "  \"system_fingerprint\": \"gemma-2-2b-it:2\"\n",
      "}\n"
     ]
    }
   ],
   "source": [
    "import requests\n",
    "import json\n",
    "\n",
    "# API endpoint\n",
    "url = \"http://0.0.0.0:1234/v1/chat/completions\"\n",
    "\n",
    "# Headers\n",
    "headers = {\n",
    "    \"Content-Type\": \"application/json\"\n",
    "}\n",
    "\n",
    "# Request payload\n",
    "payload = {\n",
    "    \"model\": \"gemma-2-2b-it:2\",\n",
    "    \"messages\": [\n",
    "        {\"role\": \"system\", \"content\": \"Give a short reply and dont think at all\"},\n",
    "        {\"role\": \"user\", \"content\": \"What is the capital of Taiwan\"}\n",
    "    ],\n",
    "    \"temperature\": 0.7,\n",
    "    \"max_tokens\": -1,\n",
    "}\n",
    "\n",
    "# Sending the request\n",
    "with requests.post(url, headers=headers, data=json.dumps(payload), stream=True) as response:\n",
    "    if response.status_code == 200:\n",
    "        for line in response.iter_lines():\n",
    "            if line:\n",
    "                print(line.decode('utf-8'))  # Print each line from the stream\n",
    "    else:\n",
    "        print(f\"Error: {response.status_code}, {response.text}\")\n"
   ]
  },
  {
   "cell_type": "code",
   "execution_count": null,
   "metadata": {},
   "outputs": [],
   "source": []
  }
 ],
 "metadata": {
  "kernelspec": {
   "display_name": "base",
   "language": "python",
   "name": "python3"
  },
  "language_info": {
   "codemirror_mode": {
    "name": "ipython",
    "version": 3
   },
   "file_extension": ".py",
   "mimetype": "text/x-python",
   "name": "python",
   "nbconvert_exporter": "python",
   "pygments_lexer": "ipython3",
   "version": "3.12.7"
  }
 },
 "nbformat": 4,
 "nbformat_minor": 2
}
